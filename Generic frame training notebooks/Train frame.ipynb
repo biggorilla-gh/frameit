{
 "cells": [
  {
   "cell_type": "markdown",
   "metadata": {},
   "source": [
    "# Training the frame"
   ]
  },
  {
   "cell_type": "markdown",
   "metadata": {},
   "source": [
    "Now that you've saved all of your training info from the other notebooks, you're ready to train the frame! Make sure that the filenames passed to train_frame_wrapper below are correct; if you skipped training an attribute, just pass an empty list for the relevant attribute type."
   ]
  },
  {
   "cell_type": "code",
   "execution_count": 3,
   "metadata": {},
   "outputs": [
    {
     "name": "stdout",
     "output_type": "stream",
     "text": [
      "init Corpus\n",
      "Parsing the Semafor data... \n",
      "Parsing the DeepSRL data... \n",
      "Creating Utterances...\n"
     ]
    },
    {
     "name": "stderr",
     "output_type": "stream",
     "text": [
      "/Users/jengelwork/Documents/FrameItExport/frameit/frameit/corpus.py:54: UserWarning: No FrameNet data found for the corpus.\n",
      "  warnings.warn('No FrameNet data found for the corpus.')\n",
      "/Users/jengelwork/Documents/FrameItExport/frameit/frameit/corpus.py:64: UserWarning: No ProbBank data found for the corpus.\n",
      "  warnings.warn('No ProbBank data found for the corpus.')\n",
      "  0%|          | 0/1991 [00:00<?, ?it/s]"
     ]
    },
    {
     "name": "stdout",
     "output_type": "stream",
     "text": [
      "Loading the en model\n",
      "\n",
      "    \u001b[93mInfo about spaCy\u001b[0m\n",
      "\n",
      "    spaCy version      2.0.12         \n",
      "    Location           /Users/jengelwork/miniconda3/lib/python3.6/site-packages/spacy\n",
      "    Platform           Darwin-17.7.0-x86_64-i386-64bit\n",
      "    Python version     3.6.1          \n",
      "    Models             en_core_web_md, en_core_web_lg, fr, en, fr_core_news_sm\n",
      "\n",
      "\n",
      "    \u001b[93mInfo about spaCy\u001b[0m\n",
      "\n",
      "    spaCy version      2.0.12         \n",
      "    Location           /Users/jengelwork/miniconda3/lib/python3.6/site-packages/spacy\n",
      "    Platform           Darwin-17.7.0-x86_64-i386-64bit\n",
      "    Python version     3.6.1          \n",
      "    Models             en_core_web_md, en_core_web_lg, fr, en, fr_core_news_sm\n",
      "\n"
     ]
    },
    {
     "name": "stderr",
     "output_type": "stream",
     "text": [
      "100%|██████████| 1991/1991 [00:09<00:00, 212.58it/s]\n"
     ]
    },
    {
     "name": "stdout",
     "output_type": "stream",
     "text": [
      "Loading indices...\n",
      "Loading lemma indices...\n",
      "Importing machine learning attributes\n",
      "Training  Food\n"
     ]
    },
    {
     "name": "stderr",
     "output_type": "stream",
     "text": [
      "/Users/jengelwork/miniconda3/lib/python3.6/site-packages/sklearn/linear_model/logistic.py:433: FutureWarning: Default solver will be changed to 'lbfgs' in 0.22. Specify a solver to silence this warning.\n",
      "  FutureWarning)\n"
     ]
    },
    {
     "name": "stdout",
     "output_type": "stream",
     "text": [
      "Importing lambda_rule attributes\n",
      "Training  Proper Noun Attribute\n",
      "Rebuilding frame\n",
      "Train on 1400 samples, validate on 26 samples\n",
      "Epoch 1/40\n",
      "1400/1400 [==============================] - 2s 1ms/step - loss: 13.2213 - acc: 0.4843 - val_loss: 12.8044 - val_acc: 0.5385\n",
      "Epoch 2/40\n",
      "1400/1400 [==============================] - 1s 719us/step - loss: 12.8056 - acc: 0.5557 - val_loss: 12.4058 - val_acc: 0.5769\n",
      "Epoch 3/40\n",
      "1400/1400 [==============================] - 1s 751us/step - loss: 12.4030 - acc: 0.5636 - val_loss: 12.0132 - val_acc: 0.5769\n",
      "Epoch 4/40\n",
      "1400/1400 [==============================] - 1s 626us/step - loss: 12.0094 - acc: 0.6629 - val_loss: 11.6305 - val_acc: 0.7692\n",
      "Epoch 5/40\n",
      "1400/1400 [==============================] - 1s 652us/step - loss: 11.6257 - acc: 0.7914 - val_loss: 11.2737 - val_acc: 0.7692\n",
      "Epoch 6/40\n",
      "1400/1400 [==============================] - 1s 728us/step - loss: 11.2675 - acc: 0.8336 - val_loss: 10.9104 - val_acc: 0.7692\n",
      "Epoch 7/40\n",
      "1400/1400 [==============================] - 1s 606us/step - loss: 10.9022 - acc: 0.8464 - val_loss: 10.5565 - val_acc: 0.7692\n",
      "Epoch 8/40\n",
      "1400/1400 [==============================] - 1s 661us/step - loss: 10.5456 - acc: 0.8714 - val_loss: 10.2123 - val_acc: 0.7692\n",
      "Epoch 9/40\n",
      "1400/1400 [==============================] - 1s 644us/step - loss: 10.1979 - acc: 0.8771 - val_loss: 9.8770 - val_acc: 0.7692\n",
      "Epoch 10/40\n",
      "1400/1400 [==============================] - 1s 604us/step - loss: 9.8590 - acc: 0.8736 - val_loss: 9.5506 - val_acc: 0.7692\n",
      "Epoch 11/40\n",
      "1400/1400 [==============================] - 1s 593us/step - loss: 9.5297 - acc: 0.8821 - val_loss: 9.2294 - val_acc: 0.7692\n",
      "Epoch 12/40\n",
      "1400/1400 [==============================] - 1s 570us/step - loss: 9.2062 - acc: 0.9107 - val_loss: 8.9159 - val_acc: 0.8077\n",
      "Epoch 13/40\n",
      "1400/1400 [==============================] - 1s 540us/step - loss: 8.8898 - acc: 0.9157 - val_loss: 8.6100 - val_acc: 0.8077\n",
      "Epoch 14/40\n",
      "1400/1400 [==============================] - 1s 545us/step - loss: 8.5800 - acc: 0.9107 - val_loss: 8.3126 - val_acc: 0.8077\n",
      "Epoch 15/40\n",
      "1400/1400 [==============================] - 1s 530us/step - loss: 8.2761 - acc: 0.9100 - val_loss: 8.0234 - val_acc: 0.8077\n",
      "Epoch 16/40\n",
      "1400/1400 [==============================] - 1s 571us/step - loss: 7.9779 - acc: 0.9171 - val_loss: 7.7400 - val_acc: 0.8077\n",
      "Epoch 17/40\n",
      "1400/1400 [==============================] - 1s 608us/step - loss: 7.6849 - acc: 0.9179 - val_loss: 7.4598 - val_acc: 0.8077\n",
      "Epoch 18/40\n",
      "1400/1400 [==============================] - 1s 566us/step - loss: 7.3949 - acc: 0.9164 - val_loss: 7.1900 - val_acc: 0.8077\n",
      "Epoch 19/40\n",
      "1400/1400 [==============================] - 1s 576us/step - loss: 7.1113 - acc: 0.9171 - val_loss: 6.9357 - val_acc: 0.8462\n",
      "Epoch 20/40\n",
      "1400/1400 [==============================] - 1s 609us/step - loss: 6.8349 - acc: 0.9250 - val_loss: 6.6976 - val_acc: 0.8462\n",
      "Epoch 21/40\n",
      "1400/1400 [==============================] - 1s 604us/step - loss: 6.5707 - acc: 0.9257 - val_loss: 6.4690 - val_acc: 0.8846\n",
      "Epoch 22/40\n",
      "1400/1400 [==============================] - 1s 598us/step - loss: 6.3175 - acc: 0.9264 - val_loss: 6.2576 - val_acc: 0.8846\n",
      "Epoch 23/40\n",
      "1400/1400 [==============================] - 1s 543us/step - loss: 6.0739 - acc: 0.9321 - val_loss: 6.0631 - val_acc: 0.8846\n",
      "Epoch 24/40\n",
      "1400/1400 [==============================] - 1s 573us/step - loss: 5.8432 - acc: 0.9343 - val_loss: 5.8758 - val_acc: 0.8846\n",
      "Epoch 25/40\n",
      "1400/1400 [==============================] - 1s 600us/step - loss: 5.6242 - acc: 0.9364 - val_loss: 5.7048 - val_acc: 0.8846\n",
      "Epoch 26/40\n",
      "1400/1400 [==============================] - 1s 620us/step - loss: 5.4180 - acc: 0.9400 - val_loss: 5.5378 - val_acc: 0.8846\n",
      "Epoch 27/40\n",
      "1400/1400 [==============================] - 1s 582us/step - loss: 5.2202 - acc: 0.9514 - val_loss: 5.3724 - val_acc: 0.8846\n",
      "Epoch 28/40\n",
      "1400/1400 [==============================] - 1s 565us/step - loss: 5.0298 - acc: 0.9536 - val_loss: 5.2047 - val_acc: 0.8462\n",
      "Epoch 29/40\n",
      "1400/1400 [==============================] - 1s 605us/step - loss: 4.8455 - acc: 0.9564 - val_loss: 5.0346 - val_acc: 0.8462\n",
      "Epoch 30/40\n",
      "1400/1400 [==============================] - 1s 572us/step - loss: 4.6670 - acc: 0.9579 - val_loss: 4.8527 - val_acc: 0.8846\n",
      "Epoch 31/40\n",
      "1400/1400 [==============================] - 1s 559us/step - loss: 4.4920 - acc: 0.9579 - val_loss: 4.6823 - val_acc: 0.8077\n",
      "Epoch 32/40\n",
      "1400/1400 [==============================] - 1s 572us/step - loss: 4.3254 - acc: 0.9579 - val_loss: 4.4913 - val_acc: 0.9231\n",
      "Epoch 33/40\n",
      "1400/1400 [==============================] - 1s 595us/step - loss: 4.1659 - acc: 0.9607 - val_loss: 4.3374 - val_acc: 0.8077\n",
      "Epoch 34/40\n",
      "1400/1400 [==============================] - 1s 606us/step - loss: 4.0114 - acc: 0.9614 - val_loss: 4.1532 - val_acc: 0.9231\n",
      "Epoch 35/40\n",
      "1400/1400 [==============================] - 1s 586us/step - loss: 3.8646 - acc: 0.9629 - val_loss: 4.0038 - val_acc: 0.8462\n",
      "Epoch 36/40\n",
      "1400/1400 [==============================] - 1s 573us/step - loss: 3.7165 - acc: 0.9650 - val_loss: 3.8617 - val_acc: 0.8462\n",
      "Epoch 37/40\n",
      "1400/1400 [==============================] - 1s 604us/step - loss: 3.5815 - acc: 0.9650 - val_loss: 3.7111 - val_acc: 0.9231\n",
      "Epoch 38/40\n",
      "1400/1400 [==============================] - 1s 585us/step - loss: 3.4522 - acc: 0.9636 - val_loss: 3.5864 - val_acc: 0.8462\n",
      "Epoch 39/40\n",
      "1400/1400 [==============================] - 1s 567us/step - loss: 3.3210 - acc: 0.9657 - val_loss: 3.4697 - val_acc: 0.8462\n",
      "Epoch 40/40\n",
      "1400/1400 [==============================] - 1s 594us/step - loss: 3.2019 - acc: 0.9657 - val_loss: 3.3385 - val_acc: 0.9231\n",
      "Saving frame to file\n",
      "Done!\n",
      "Corresponding gold file is  ../resources/gold_examples55ffaca0-46a2-4fb5-af75-d6965d2cfb8b.xml\n"
     ]
    }
   ],
   "source": [
    "from frameit.train_from_exploration import train_frame_wrapper\n",
    "from frameit.EvalAFrame import evalFrame\n",
    "frame_filename = \"test_frame.json\"\n",
    "frame_info_filename = 'frame_training_info.json'\n",
    "#Calling train_frame_wrapper also saves the output to a file with the filename passed in the variable \"frame_filename\"\n",
    "gold_file = train_frame_wrapper(frame_filename, frame_file=frame_info_filename, ml_attr_files=[\"attr1.json\"], \n",
    "                    lambda_attr_files=[\"attr2.json\"])"
   ]
  },
  {
   "cell_type": "markdown",
   "metadata": {},
   "source": [
    "Once the frame is trained and saved you can load it with the following code"
   ]
  },
  {
   "cell_type": "code",
   "execution_count": null,
   "metadata": {},
   "outputs": [],
   "source": [
    "#for testing\n",
    "from frameit import SRL, Frame\n",
    "srl = SRL()\n",
    "frame = Frame.load(frame_filename)\n",
    "srl.addFrame(frame)\n",
    "srl.parse('I got lunch with Katie')"
   ]
  },
  {
   "cell_type": "markdown",
   "metadata": {},
   "source": [
    "You can test out various sentences with SRL parse. Note that if you have trained multiple frames, you can load them together into an SRL, which will cause parse() to run for each frame that has been loaded."
   ]
  },
  {
   "cell_type": "code",
   "execution_count": null,
   "metadata": {},
   "outputs": [],
   "source": [
    "srl.parse('Where is the pool')"
   ]
  },
  {
   "cell_type": "markdown",
   "metadata": {},
   "source": [
    "If you provided a gold set earlier in the frame training, you can use it here to "
   ]
  },
  {
   "cell_type": "code",
   "execution_count": 4,
   "metadata": {},
   "outputs": [
    {
     "name": "stdout",
     "output_type": "stream",
     "text": [
      "Loading the en model\n",
      "\n",
      "    \u001b[93mInfo about spaCy\u001b[0m\n",
      "\n",
      "    spaCy version      2.0.12         \n",
      "    Location           /Users/jengelwork/miniconda3/lib/python3.6/site-packages/spacy\n",
      "    Platform           Darwin-17.7.0-x86_64-i386-64bit\n",
      "    Python version     3.6.1          \n",
      "    Models             en_core_web_md, en_core_web_lg, fr, en, fr_core_news_sm\n",
      "\n",
      "\n",
      "    \u001b[93mInfo about spaCy\u001b[0m\n",
      "\n",
      "    spaCy version      2.0.12         \n",
      "    Location           /Users/jengelwork/miniconda3/lib/python3.6/site-packages/spacy\n",
      "    Platform           Darwin-17.7.0-x86_64-i386-64bit\n",
      "    Python version     3.6.1          \n",
      "    Models             en_core_web_md, en_core_web_lg, fr, en, fr_core_news_sm\n",
      "\n",
      "true_positives =  2\n",
      "true_negatives =  5\n",
      "false_positives =  0\n",
      "false_negatives =  0\n",
      "mismatches =  3\n",
      "Raw true attributes =  2\n",
      "Raw false positive attributes =  3\n",
      "Raw missed attributes =  0\n",
      "Frame detection precision =  1.0\n",
      "Frame detection recall =  1.0\n",
      "Frame F1 score =  1.0\n",
      "True Attribute detection precision =  0.4\n",
      "True Attribute detection recall =  1.0\n",
      "True Attribute F1 score =  0.5714285714285715\n",
      "Raw Attribute precision =  0.4\n",
      "Raw Attribute recall =  1.0\n",
      "Raw attribute f1 =  0.5714285714285715\n",
      "Now calculating attribute detection only for successful frame identification cases\n",
      "Successful frame attribute precision =  0.4\n",
      "Attribute-specific stats:\n",
      "Proper Noun Attribute:\n",
      "\t correct-positive: 0\n",
      "\t false-positive: 0\n",
      "\t missed-positive: 0\n",
      "Precision: 0.0, Recall: 0.0, F1: 0.0\n",
      "Food:\n",
      "\t correct-positive: 2\n",
      "\t false-positive: 3\n",
      "\t missed-positive: 0\n",
      "Precision: 0.4, Recall: 1.0, F1: 0.5714285714285715\n"
     ]
    }
   ],
   "source": [
    "evalFrame(frame_filename, gold_file)"
   ]
  },
  {
   "cell_type": "code",
   "execution_count": null,
   "metadata": {},
   "outputs": [],
   "source": []
  },
  {
   "cell_type": "code",
   "execution_count": null,
   "metadata": {},
   "outputs": [],
   "source": []
  }
 ],
 "metadata": {
  "kernelspec": {
   "display_name": "Python 3",
   "language": "python",
   "name": "python3"
  },
  "language_info": {
   "codemirror_mode": {
    "name": "ipython",
    "version": 3
   },
   "file_extension": ".py",
   "mimetype": "text/x-python",
   "name": "python",
   "nbconvert_exporter": "python",
   "pygments_lexer": "ipython3",
   "version": "3.6.1"
  }
 },
 "nbformat": 4,
 "nbformat_minor": 2
}
