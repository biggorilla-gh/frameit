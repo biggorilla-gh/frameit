{
 "cells": [
  {
   "cell_type": "markdown",
   "metadata": {},
   "source": [
    "# Training the frame"
   ]
  },
  {
   "cell_type": "markdown",
   "metadata": {},
   "source": [
    "Now that you've saved all of your training info from the other notebooks, you're ready to train the frame! Make sure that the filenames passed to train_frame_wrapper below are correct; if you skipped training an attribute, just pass an empty list for the relevant attribute type."
   ]
  },
  {
   "cell_type": "code",
   "execution_count": null,
   "metadata": {},
   "outputs": [],
   "source": [
    "from frameit.train_from_exploration import train_frame_wrapper\n",
    "from frameit.EvalAFrame import evalFrame\n",
    "frame_filename = \"test_frame.json\"\n",
    "frame_info_filename = 'frame_training_info.json'\n",
    "#Calling train_frame_wrapper also saves the output to a file with the filename passed in the variable \"frame_filename\"\n",
    "gold_file = train_frame_wrapper(frame_filename, frame_file=frame_info_filename, ml_attr_files=[\"attr1.json\"], \n",
    "                    lambda_attr_files=[\"attr2.json\"])"
   ]
  },
  {
   "cell_type": "markdown",
   "metadata": {},
   "source": [
    "Once the frame is trained and saved you can load it with the following code"
   ]
  },
  {
   "cell_type": "code",
   "execution_count": null,
   "metadata": {},
   "outputs": [],
   "source": [
    "#for testing\n",
    "from frameit import SRL, Frame\n",
    "srl = SRL()\n",
    "frame = Frame.load(frame_filename)\n",
    "srl.addFrame(frame)\n",
    "srl.parse('I got lunch with Katie')"
   ]
  },
  {
   "cell_type": "markdown",
   "metadata": {},
   "source": [
    "You can test out various sentences with SRL parse. Note that if you have trained multiple frames, you can load them together into an SRL, which will cause parse() to run for each frame that has been loaded."
   ]
  },
  {
   "cell_type": "code",
   "execution_count": null,
   "metadata": {},
   "outputs": [],
   "source": [
    "srl.parse('Where is the pool')"
   ]
  },
  {
   "cell_type": "markdown",
   "metadata": {},
   "source": [
    "If you provided a gold set earlier in the frame training, you can use it here to automatically generate precision and recall statistics for both the frame and for attributes. "
   ]
  },
  {
   "cell_type": "code",
   "execution_count": null,
   "metadata": {},
   "outputs": [],
   "source": [
    "evalFrame(frame_filename, gold_file)"
   ]
  },
  {
   "cell_type": "code",
   "execution_count": null,
   "metadata": {},
   "outputs": [],
   "source": []
  },
  {
   "cell_type": "code",
   "execution_count": null,
   "metadata": {},
   "outputs": [],
   "source": []
  }
 ],
 "metadata": {
  "kernelspec": {
   "display_name": "Python 3",
   "language": "python",
   "name": "python3"
  },
  "language_info": {
   "codemirror_mode": {
    "name": "ipython",
    "version": 3
   },
   "file_extension": ".py",
   "mimetype": "text/x-python",
   "name": "python",
   "nbconvert_exporter": "python",
   "pygments_lexer": "ipython3",
   "version": "3.6.1"
  }
 },
 "nbformat": 4,
 "nbformat_minor": 2
}
